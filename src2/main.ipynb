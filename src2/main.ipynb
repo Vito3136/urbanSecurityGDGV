{
 "cells": [
  {
   "metadata": {
    "ExecuteTime": {
     "end_time": "2025-05-31T08:10:04.774945Z",
     "start_time": "2025-05-31T08:10:01.994278Z"
    }
   },
   "cell_type": "code",
   "source": [
    "import gc\n",
    "\n",
    "from src2.SVMUtils import executeSVM\n",
    "from src2.bytecode_manager import *\n",
    "from src2.bytekernels import *\n",
    "from joblib import Parallel, delayed"
   ],
   "id": "5c6488f869b5312",
   "outputs": [],
   "execution_count": 1
  },
  {
   "metadata": {
    "ExecuteTime": {
     "end_time": "2025-05-31T08:10:15.575667Z",
     "start_time": "2025-05-31T08:10:06.403138Z"
    }
   },
   "cell_type": "code",
   "source": [
    "NUM_CORES = 8\n",
    "\n",
    "goodware_bytecodes = collect_bytecodes(\"/Users/vitoditrani/Desktop/UNIVERSITA/MAGISTRALE/urban_security/urbanSecurityGDGV/resources/goodware_dataset\", \"/Users/vitoditrani/Desktop/UNIVERSITA/MAGISTRALE/urban_security/urbanSecurityGDGV/resources/non_valid_goodwares\")\n",
    "malware_bytecodes = collect_bytecodes(\"/Users/vitoditrani/Desktop/UNIVERSITA/MAGISTRALE/urban_security/urbanSecurityGDGV/resources/malware_dataset\", \"/Users/vitoditrani/Desktop/UNIVERSITA/MAGISTRALE/urban_security/urbanSecurityGDGV/resources/non_valid_malwares\")"
   ],
   "id": "5e83f93adcfcc51a",
   "outputs": [
    {
     "name": "stdout",
     "output_type": "stream",
     "text": [
      "Non valid data: 0\n",
      "Non valid data: 0\n"
     ]
    }
   ],
   "execution_count": 2
  },
  {
   "metadata": {
    "jupyter": {
     "is_executing": true
    },
    "ExecuteTime": {
     "start_time": "2025-05-31T08:10:16.740612Z"
    }
   },
   "cell_type": "code",
   "source": [
    "# Inserire commento StrideKernel\n",
    "\n",
    "for i in range(0, 51, 5):\n",
    "    if (i == 0):\n",
    "        i = 1\n",
    "    for j in range(0, 51, 5):\n",
    "        if (j == 0):\n",
    "            j = 1\n",
    "        filterStrideKernel = StrideKernel(keep=i, skip=j)\n",
    "\n",
    "        def filter(b):\n",
    "            result = filterStrideKernel(b)\n",
    "            gc.collect()\n",
    "            return result\n",
    "\n",
    "        goodware_bytecodes_filtered_with_Stride_Kernel = []\n",
    "        goodware_bytecodes_filtered_with_Stride_Kernel = Parallel(n_jobs=NUM_CORES)(\n",
    "            delayed(filter)(b) for b in goodware_bytecodes\n",
    "        )\n",
    "\n",
    "        malware_bytecodes_filtered_with_Stride_Kernel = []\n",
    "        malware_bytecodes_filtered_with_Stride_Kernel = Parallel(n_jobs=NUM_CORES)(\n",
    "            delayed(filter)(b) for b in malware_bytecodes\n",
    "        )\n",
    "\n",
    "        lenBiggestGoodware = get_dimension_biggest_bytecode(goodware_bytecodes_filtered_with_Stride_Kernel)\n",
    "        lenBiggestMalware = get_dimension_biggest_bytecode(malware_bytecodes_filtered_with_Stride_Kernel)\n",
    "\n",
    "        if (lenBiggestGoodware > lenBiggestMalware):\n",
    "            lenDef = lenBiggestGoodware + 8\n",
    "            goodware_bytecodes_filtered_with_Stride_Kernel_zero_padding = Parallel(n_jobs=NUM_CORES)(delayed(pad_bytecode)(b, lenDef) for b in goodware_bytecodes_filtered_with_Stride_Kernel)\n",
    "            malware_bytecodes_filtered_with_Stride_Kernel_zero_padding = Parallel(n_jobs=NUM_CORES)(delayed(pad_bytecode)(b, lenDef) for b in malware_bytecodes_filtered_with_Stride_Kernel)\n",
    "        else:\n",
    "            lenDef = lenBiggestMalware + 8\n",
    "            goodware_bytecodes_filtered_with_Stride_Kernel_zero_padding = Parallel(n_jobs=NUM_CORES)(delayed(pad_bytecode)(b, lenDef) for b in goodware_bytecodes_filtered_with_Stride_Kernel)\n",
    "            malware_bytecodes_filtered_with_Stride_Kernel_zero_padding = Parallel(n_jobs=NUM_CORES)(delayed(pad_bytecode)(b, lenDef) for b in malware_bytecodes_filtered_with_Stride_Kernel)\n",
    "\n",
    "        goodware_bytecodes_filtered_with_Stride_Kernel.clear()\n",
    "        malware_bytecodes_filtered_with_Stride_Kernel.clear()\n",
    "\n",
    "        print(\"Filtered with keep \" + str(i) + \" skip \" + str(j))\n",
    "        executeSVM(goodware_bytecodes_filtered_with_Stride_Kernel_zero_padding, malware_bytecodes_filtered_with_Stride_Kernel_zero_padding)\n",
    "\n",
    "        goodware_bytecodes_filtered_with_Stride_Kernel_zero_padding.clear()\n",
    "        malware_bytecodes_filtered_with_Stride_Kernel_zero_padding.clear()\n",
    "        gc.collect()"
   ],
   "id": "303f068a7747331a",
   "outputs": [],
   "execution_count": null
  },
  {
   "metadata": {
    "ExecuteTime": {
     "end_time": "2025-05-27T08:45:08.832858Z",
     "start_time": "2025-05-27T07:58:37.001963Z"
    }
   },
   "cell_type": "code",
   "source": [
    "# Inserire commento PrimeIndexKernel\n",
    "\n",
    "primeIndexKernel = PrimeIndexKernel()\n",
    "\n",
    "def filter(b):\n",
    "    result = primeIndexKernel(b)\n",
    "    gc.collect()\n",
    "    return result\n",
    "\n",
    "goodware_bytecodes_filtered_with_Prime_Index_Kernel = []\n",
    "goodware_bytecodes_filtered_with_Prime_Index_Kernel = Parallel(n_jobs=NUM_CORES)(\n",
    "    delayed(filter)(b) for b in goodware_bytecodes\n",
    ")\n",
    "\n",
    "malware_bytecodes_filtered_with_Prime_Index_Kernel = []\n",
    "malware_bytecodes_filtered_with_Prime_Index_Kernel = Parallel(n_jobs=NUM_CORES)(\n",
    "    delayed(filter)(b) for b in malware_bytecodes\n",
    ")\n",
    "\n",
    "executeSVM(goodware_bytecodes_filtered_with_Prime_Index_Kernel, malware_bytecodes_filtered_with_Prime_Index_Kernel, is_filtered=True)\n",
    "\n",
    "goodware_bytecodes_filtered_with_Prime_Index_Kernel.clear()\n",
    "malware_bytecodes_filtered_with_Prime_Index_Kernel.clear()\n",
    "gc.collect()"
   ],
   "id": "4c227af77627451b",
   "outputs": [
    {
     "name": "stderr",
     "output_type": "stream",
     "text": [
      "\n",
      "KeyboardInterrupt\n",
      "\n"
     ]
    },
    {
     "ename": "KeyboardInterrupt",
     "evalue": "",
     "output_type": "error",
     "traceback": [
      "\u001B[31m---------------------------------------------------------------------------\u001B[39m",
      "\u001B[31mKeyboardInterrupt\u001B[39m                         Traceback (most recent call last)",
      "\u001B[36mFile \u001B[39m\u001B[32m~/Desktop/UNIVERSITA/MAGISTRALE/urban_security/urbanSecurityGDGV/.venv/lib/python3.12/site-packages/IPython/core/async_helpers.py:128\u001B[39m, in \u001B[36m_pseudo_sync_runner\u001B[39m\u001B[34m(coro)\u001B[39m\n\u001B[32m    120\u001B[39m \u001B[38;5;250m\u001B[39m\u001B[33;03m\"\"\"\u001B[39;00m\n\u001B[32m    121\u001B[39m \u001B[33;03mA runner that does not really allow async execution, and just advance the coroutine.\u001B[39;00m\n\u001B[32m    122\u001B[39m \n\u001B[32m   (...)\u001B[39m\u001B[32m    125\u001B[39m \u001B[33;03mCredit to Nathaniel Smith\u001B[39;00m\n\u001B[32m    126\u001B[39m \u001B[33;03m\"\"\"\u001B[39;00m\n\u001B[32m    127\u001B[39m \u001B[38;5;28;01mtry\u001B[39;00m:\n\u001B[32m--> \u001B[39m\u001B[32m128\u001B[39m     \u001B[43mcoro\u001B[49m\u001B[43m.\u001B[49m\u001B[43msend\u001B[49m\u001B[43m(\u001B[49m\u001B[38;5;28;43;01mNone\u001B[39;49;00m\u001B[43m)\u001B[49m\n\u001B[32m    129\u001B[39m \u001B[38;5;28;01mexcept\u001B[39;00m \u001B[38;5;167;01mStopIteration\u001B[39;00m \u001B[38;5;28;01mas\u001B[39;00m exc:\n\u001B[32m    130\u001B[39m     \u001B[38;5;28;01mreturn\u001B[39;00m exc.value\n",
      "\u001B[36mFile \u001B[39m\u001B[32m~/Desktop/UNIVERSITA/MAGISTRALE/urban_security/urbanSecurityGDGV/.venv/lib/python3.12/site-packages/IPython/core/interactiveshell.py:3384\u001B[39m, in \u001B[36mInteractiveShell.run_cell_async\u001B[39m\u001B[34m(self, raw_cell, store_history, silent, shell_futures, transformed_cell, preprocessing_exc_tuple, cell_id)\u001B[39m\n\u001B[32m   3380\u001B[39m exec_count = \u001B[38;5;28mself\u001B[39m.execution_count\n\u001B[32m   3381\u001B[39m \u001B[38;5;28;01mif\u001B[39;00m result.error_in_exec:\n\u001B[32m   3382\u001B[39m     \u001B[38;5;66;03m# Store formatted traceback and error details\u001B[39;00m\n\u001B[32m   3383\u001B[39m     \u001B[38;5;28mself\u001B[39m.history_manager.exceptions[exec_count] = (\n\u001B[32m-> \u001B[39m\u001B[32m3384\u001B[39m         \u001B[38;5;28;43mself\u001B[39;49m\u001B[43m.\u001B[49m\u001B[43m_format_exception_for_storage\u001B[49m\u001B[43m(\u001B[49m\u001B[43mresult\u001B[49m\u001B[43m.\u001B[49m\u001B[43merror_in_exec\u001B[49m\u001B[43m)\u001B[49m\n\u001B[32m   3385\u001B[39m     )\n\u001B[32m   3387\u001B[39m \u001B[38;5;66;03m# Each cell is a *single* input, regardless of how many lines it has\u001B[39;00m\n\u001B[32m   3388\u001B[39m \u001B[38;5;28mself\u001B[39m.execution_count += \u001B[32m1\u001B[39m\n",
      "\u001B[36mFile \u001B[39m\u001B[32m~/Desktop/UNIVERSITA/MAGISTRALE/urban_security/urbanSecurityGDGV/.venv/lib/python3.12/site-packages/IPython/core/interactiveshell.py:3438\u001B[39m, in \u001B[36mInteractiveShell._format_exception_for_storage\u001B[39m\u001B[34m(self, exception, filename, running_compiled_code)\u001B[39m\n\u001B[32m   3435\u001B[39m         stb = evalue._render_traceback_()\n\u001B[32m   3436\u001B[39m     \u001B[38;5;28;01melse\u001B[39;00m:\n\u001B[32m   3437\u001B[39m         \u001B[38;5;66;03m# Otherwise, use InteractiveTB to format the traceback.\u001B[39;00m\n\u001B[32m-> \u001B[39m\u001B[32m3438\u001B[39m         stb = \u001B[38;5;28;43mself\u001B[39;49m\u001B[43m.\u001B[49m\u001B[43mInteractiveTB\u001B[49m\u001B[43m.\u001B[49m\u001B[43mstructured_traceback\u001B[49m\u001B[43m(\u001B[49m\n\u001B[32m   3439\u001B[39m \u001B[43m            \u001B[49m\u001B[43metype\u001B[49m\u001B[43m,\u001B[49m\u001B[43m \u001B[49m\u001B[43mevalue\u001B[49m\u001B[43m,\u001B[49m\u001B[43m \u001B[49m\u001B[43mtb\u001B[49m\u001B[43m,\u001B[49m\u001B[43m \u001B[49m\u001B[43mtb_offset\u001B[49m\u001B[43m=\u001B[49m\u001B[32;43m1\u001B[39;49m\n\u001B[32m   3440\u001B[39m \u001B[43m        \u001B[49m\u001B[43m)\u001B[49m\n\u001B[32m   3441\u001B[39m \u001B[38;5;28;01mexcept\u001B[39;00m \u001B[38;5;167;01mException\u001B[39;00m:\n\u001B[32m   3442\u001B[39m     \u001B[38;5;66;03m# In case formatting fails, fallback to Python's built-in formatting.\u001B[39;00m\n\u001B[32m   3443\u001B[39m     stb = traceback.format_exception(etype, evalue, tb)\n",
      "\u001B[36mFile \u001B[39m\u001B[32m~/Desktop/UNIVERSITA/MAGISTRALE/urban_security/urbanSecurityGDGV/.venv/lib/python3.12/site-packages/IPython/core/ultratb.py:1182\u001B[39m, in \u001B[36mAutoFormattedTB.structured_traceback\u001B[39m\u001B[34m(self, etype, evalue, etb, tb_offset, context)\u001B[39m\n\u001B[32m   1180\u001B[39m \u001B[38;5;28;01melse\u001B[39;00m:\n\u001B[32m   1181\u001B[39m     \u001B[38;5;28mself\u001B[39m.tb = etb\n\u001B[32m-> \u001B[39m\u001B[32m1182\u001B[39m \u001B[38;5;28;01mreturn\u001B[39;00m \u001B[43mFormattedTB\u001B[49m\u001B[43m.\u001B[49m\u001B[43mstructured_traceback\u001B[49m\u001B[43m(\u001B[49m\n\u001B[32m   1183\u001B[39m \u001B[43m    \u001B[49m\u001B[38;5;28;43mself\u001B[39;49m\u001B[43m,\u001B[49m\u001B[43m \u001B[49m\u001B[43metype\u001B[49m\u001B[43m,\u001B[49m\u001B[43m \u001B[49m\u001B[43mevalue\u001B[49m\u001B[43m,\u001B[49m\u001B[43m \u001B[49m\u001B[43metb\u001B[49m\u001B[43m,\u001B[49m\u001B[43m \u001B[49m\u001B[43mtb_offset\u001B[49m\u001B[43m,\u001B[49m\u001B[43m \u001B[49m\u001B[43mcontext\u001B[49m\n\u001B[32m   1184\u001B[39m \u001B[43m\u001B[49m\u001B[43m)\u001B[49m\n",
      "\u001B[36mFile \u001B[39m\u001B[32m~/Desktop/UNIVERSITA/MAGISTRALE/urban_security/urbanSecurityGDGV/.venv/lib/python3.12/site-packages/IPython/core/ultratb.py:1053\u001B[39m, in \u001B[36mFormattedTB.structured_traceback\u001B[39m\u001B[34m(self, etype, evalue, etb, tb_offset, context)\u001B[39m\n\u001B[32m   1050\u001B[39m mode = \u001B[38;5;28mself\u001B[39m.mode\n\u001B[32m   1051\u001B[39m \u001B[38;5;28;01mif\u001B[39;00m mode \u001B[38;5;129;01min\u001B[39;00m \u001B[38;5;28mself\u001B[39m.verbose_modes:\n\u001B[32m   1052\u001B[39m     \u001B[38;5;66;03m# Verbose modes need a full traceback\u001B[39;00m\n\u001B[32m-> \u001B[39m\u001B[32m1053\u001B[39m     \u001B[38;5;28;01mreturn\u001B[39;00m \u001B[43mVerboseTB\u001B[49m\u001B[43m.\u001B[49m\u001B[43mstructured_traceback\u001B[49m\u001B[43m(\u001B[49m\n\u001B[32m   1054\u001B[39m \u001B[43m        \u001B[49m\u001B[38;5;28;43mself\u001B[39;49m\u001B[43m,\u001B[49m\u001B[43m \u001B[49m\u001B[43metype\u001B[49m\u001B[43m,\u001B[49m\u001B[43m \u001B[49m\u001B[43mevalue\u001B[49m\u001B[43m,\u001B[49m\u001B[43m \u001B[49m\u001B[43metb\u001B[49m\u001B[43m,\u001B[49m\u001B[43m \u001B[49m\u001B[43mtb_offset\u001B[49m\u001B[43m,\u001B[49m\u001B[43m \u001B[49m\u001B[43mcontext\u001B[49m\n\u001B[32m   1055\u001B[39m \u001B[43m    \u001B[49m\u001B[43m)\u001B[49m\n\u001B[32m   1056\u001B[39m \u001B[38;5;28;01melif\u001B[39;00m mode == \u001B[33m\"\u001B[39m\u001B[33mDocs\u001B[39m\u001B[33m\"\u001B[39m:\n\u001B[32m   1057\u001B[39m     \u001B[38;5;66;03m# return DocTB\u001B[39;00m\n\u001B[32m   1058\u001B[39m     \u001B[38;5;28;01mreturn\u001B[39;00m DocTB(\n\u001B[32m   1059\u001B[39m         theme_name=\u001B[38;5;28mself\u001B[39m._theme_name,\n\u001B[32m   1060\u001B[39m         call_pdb=\u001B[38;5;28mself\u001B[39m.call_pdb,\n\u001B[32m   (...)\u001B[39m\u001B[32m   1068\u001B[39m         etype, evalue, etb, tb_offset, \u001B[32m1\u001B[39m\n\u001B[32m   1069\u001B[39m     )  \u001B[38;5;66;03m# type: ignore[arg-type]\u001B[39;00m\n",
      "\u001B[36mFile \u001B[39m\u001B[32m~/Desktop/UNIVERSITA/MAGISTRALE/urban_security/urbanSecurityGDGV/.venv/lib/python3.12/site-packages/IPython/core/ultratb.py:861\u001B[39m, in \u001B[36mVerboseTB.structured_traceback\u001B[39m\u001B[34m(self, etype, evalue, etb, tb_offset, context)\u001B[39m\n\u001B[32m    852\u001B[39m \u001B[38;5;28;01mdef\u001B[39;00m\u001B[38;5;250m \u001B[39m\u001B[34mstructured_traceback\u001B[39m(\n\u001B[32m    853\u001B[39m     \u001B[38;5;28mself\u001B[39m,\n\u001B[32m    854\u001B[39m     etype: \u001B[38;5;28mtype\u001B[39m,\n\u001B[32m   (...)\u001B[39m\u001B[32m    858\u001B[39m     context: \u001B[38;5;28mint\u001B[39m = \u001B[32m5\u001B[39m,\n\u001B[32m    859\u001B[39m ) -> \u001B[38;5;28mlist\u001B[39m[\u001B[38;5;28mstr\u001B[39m]:\n\u001B[32m    860\u001B[39m \u001B[38;5;250m    \u001B[39m\u001B[33;03m\"\"\"Return a nice text document describing the traceback.\"\"\"\u001B[39;00m\n\u001B[32m--> \u001B[39m\u001B[32m861\u001B[39m     formatted_exceptions: \u001B[38;5;28mlist\u001B[39m[\u001B[38;5;28mlist\u001B[39m[\u001B[38;5;28mstr\u001B[39m]] = \u001B[38;5;28;43mself\u001B[39;49m\u001B[43m.\u001B[49m\u001B[43mformat_exception_as_a_whole\u001B[49m\u001B[43m(\u001B[49m\n\u001B[32m    862\u001B[39m \u001B[43m        \u001B[49m\u001B[43metype\u001B[49m\u001B[43m,\u001B[49m\u001B[43m \u001B[49m\u001B[43mevalue\u001B[49m\u001B[43m,\u001B[49m\u001B[43m \u001B[49m\u001B[43metb\u001B[49m\u001B[43m,\u001B[49m\u001B[43m \u001B[49m\u001B[43mcontext\u001B[49m\u001B[43m,\u001B[49m\u001B[43m \u001B[49m\u001B[43mtb_offset\u001B[49m\n\u001B[32m    863\u001B[39m \u001B[43m    \u001B[49m\u001B[43m)\u001B[49m\n\u001B[32m    865\u001B[39m     termsize = \u001B[38;5;28mmin\u001B[39m(\u001B[32m75\u001B[39m, get_terminal_size()[\u001B[32m0\u001B[39m])\n\u001B[32m    866\u001B[39m     theme = theme_table[\u001B[38;5;28mself\u001B[39m._theme_name]\n",
      "\u001B[36mFile \u001B[39m\u001B[32m~/Desktop/UNIVERSITA/MAGISTRALE/urban_security/urbanSecurityGDGV/.venv/lib/python3.12/site-packages/IPython/core/ultratb.py:746\u001B[39m, in \u001B[36mVerboseTB.format_exception_as_a_whole\u001B[39m\u001B[34m(self, etype, evalue, etb, context, tb_offset)\u001B[39m\n\u001B[32m    744\u001B[39m \u001B[38;5;28;01massert\u001B[39;00m \u001B[38;5;28misinstance\u001B[39m(tb_offset, \u001B[38;5;28mint\u001B[39m)\n\u001B[32m    745\u001B[39m head = \u001B[38;5;28mself\u001B[39m.prepare_header(\u001B[38;5;28mstr\u001B[39m(etype), \u001B[38;5;28mself\u001B[39m.long_header)\n\u001B[32m--> \u001B[39m\u001B[32m746\u001B[39m records = \u001B[38;5;28;43mself\u001B[39;49m\u001B[43m.\u001B[49m\u001B[43mget_records\u001B[49m\u001B[43m(\u001B[49m\u001B[43metb\u001B[49m\u001B[43m,\u001B[49m\u001B[43m \u001B[49m\u001B[43mcontext\u001B[49m\u001B[43m,\u001B[49m\u001B[43m \u001B[49m\u001B[43mtb_offset\u001B[49m\u001B[43m)\u001B[49m \u001B[38;5;28;01mif\u001B[39;00m etb \u001B[38;5;28;01melse\u001B[39;00m []\n\u001B[32m    748\u001B[39m frames = []\n\u001B[32m    749\u001B[39m skipped = \u001B[32m0\u001B[39m\n",
      "\u001B[36mFile \u001B[39m\u001B[32m~/Desktop/UNIVERSITA/MAGISTRALE/urban_security/urbanSecurityGDGV/.venv/lib/python3.12/site-packages/IPython/core/ultratb.py:819\u001B[39m, in \u001B[36mVerboseTB.get_records\u001B[39m\u001B[34m(self, etb, context, tb_offset)\u001B[39m\n\u001B[32m    817\u001B[39m \u001B[38;5;28;01mwhile\u001B[39;00m cf \u001B[38;5;129;01mis\u001B[39;00m \u001B[38;5;129;01mnot\u001B[39;00m \u001B[38;5;28;01mNone\u001B[39;00m:\n\u001B[32m    818\u001B[39m     \u001B[38;5;28;01mtry\u001B[39;00m:\n\u001B[32m--> \u001B[39m\u001B[32m819\u001B[39m         mod = \u001B[43minspect\u001B[49m\u001B[43m.\u001B[49m\u001B[43mgetmodule\u001B[49m\u001B[43m(\u001B[49m\u001B[43mcf\u001B[49m\u001B[43m.\u001B[49m\u001B[43mtb_frame\u001B[49m\u001B[43m)\u001B[49m\n\u001B[32m    820\u001B[39m         \u001B[38;5;28;01mif\u001B[39;00m mod \u001B[38;5;129;01mis\u001B[39;00m \u001B[38;5;129;01mnot\u001B[39;00m \u001B[38;5;28;01mNone\u001B[39;00m:\n\u001B[32m    821\u001B[39m             mod_name = mod.\u001B[34m__name__\u001B[39m\n",
      "\u001B[36mFile \u001B[39m\u001B[32m/Library/Frameworks/Python.framework/Versions/3.12/lib/python3.12/inspect.py:1004\u001B[39m, in \u001B[36mgetmodule\u001B[39m\u001B[34m(object, _filename)\u001B[39m\n\u001B[32m   1001\u001B[39m \u001B[38;5;66;03m# Update the filename to module name cache and check yet again\u001B[39;00m\n\u001B[32m   1002\u001B[39m \u001B[38;5;66;03m# Copy sys.modules in order to cope with changes while iterating\u001B[39;00m\n\u001B[32m   1003\u001B[39m \u001B[38;5;28;01mfor\u001B[39;00m modname, module \u001B[38;5;129;01min\u001B[39;00m sys.modules.copy().items():\n\u001B[32m-> \u001B[39m\u001B[32m1004\u001B[39m     \u001B[38;5;28;01mif\u001B[39;00m ismodule(module) \u001B[38;5;129;01mand\u001B[39;00m \u001B[38;5;28;43mhasattr\u001B[39;49m\u001B[43m(\u001B[49m\u001B[43mmodule\u001B[49m\u001B[43m,\u001B[49m\u001B[43m \u001B[49m\u001B[33;43m'\u001B[39;49m\u001B[33;43m__file__\u001B[39;49m\u001B[33;43m'\u001B[39;49m\u001B[43m)\u001B[49m:\n\u001B[32m   1005\u001B[39m         f = module.\u001B[34m__file__\u001B[39m\n\u001B[32m   1006\u001B[39m         \u001B[38;5;28;01mif\u001B[39;00m f == _filesbymodname.get(modname, \u001B[38;5;28;01mNone\u001B[39;00m):\n\u001B[32m   1007\u001B[39m             \u001B[38;5;66;03m# Have already mapped this module, so skip it\u001B[39;00m\n",
      "\u001B[31mKeyboardInterrupt\u001B[39m: "
     ]
    }
   ],
   "execution_count": 2
  },
  {
   "metadata": {
    "ExecuteTime": {
     "end_time": "2025-05-27T15:49:39.626487Z",
     "start_time": "2025-05-27T15:49:39.621591Z"
    }
   },
   "cell_type": "code",
   "source": "",
   "id": "1fe3ad281e04ca71",
   "outputs": [
    {
     "name": "stdout",
     "output_type": "stream",
     "text": [
      "26\n",
      "[b'MZ\\x90\\x00\\x03\\x00\\x00\\x00\\x04\\x00\\x00\\x00\\xff\\xff\\x00\\x00\\xb8\\x00\\x00\\xff\\x00\\x00\\x00\\x00\\x00\\x00', b'MZx\\x00\\x01\\x00\\x00\\x00\\x05\\x00\\x00\\x00\\x00\\x00\\x00\\x00@\\x00\\x00\\x00\\x00\\x00\\x00\\x00\\x10\\xff']\n",
      "['0x4d', '0x5a', '0x90', '0x0', '0x3', '0x0', '0x0', '0x0', '0x4', '0x0', '0x0', '0x0', '0xff', '0xff', '0x0', '0x0', '0xb8', '0x0', '0x0', '0xff', '0x0', '0x0', '0x0', '0x0', '0x0', '0x0']\n",
      "['0x4d', '0x5a', '0x78', '0x0', '0x1', '0x0', '0x0', '0x0', '0x5', '0x0', '0x0', '0x0', '0x0', '0x0', '0x0', '0x0', '0x40', '0x0', '0x0', '0x0', '0x0', '0x0', '0x0', '0x0', '0x10', '0xff']\n"
     ]
    }
   ],
   "execution_count": 6
  },
  {
   "metadata": {},
   "cell_type": "code",
   "outputs": [],
   "execution_count": null,
   "source": "",
   "id": "b84edad92c2b0432"
  }
 ],
 "metadata": {
  "kernelspec": {
   "display_name": "Python 3",
   "language": "python",
   "name": "python3"
  },
  "language_info": {
   "codemirror_mode": {
    "name": "ipython",
    "version": 2
   },
   "file_extension": ".py",
   "mimetype": "text/x-python",
   "name": "python",
   "nbconvert_exporter": "python",
   "pygments_lexer": "ipython2",
   "version": "2.7.6"
  }
 },
 "nbformat": 4,
 "nbformat_minor": 5
}
