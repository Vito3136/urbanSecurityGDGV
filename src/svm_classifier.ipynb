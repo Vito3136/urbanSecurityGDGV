{
 "cells": [
  {
   "cell_type": "code",
   "id": "initial_id",
   "metadata": {
    "collapsed": true,
    "ExecuteTime": {
     "end_time": "2025-05-19T18:10:28.076146Z",
     "start_time": "2025-05-19T18:10:27.217102Z"
    }
   },
   "source": [
    "import os\n",
    "import glob\n",
    "import pefile\n",
    "import numpy as np\n",
    "from sklearn.model_selection import train_test_split\n",
    "from sklearn.svm import SVC\n",
    "from sklearn.metrics import classification_report, accuracy_score"
   ],
   "outputs": [],
   "execution_count": 1
  },
  {
   "metadata": {
    "ExecuteTime": {
     "end_time": "2025-05-19T18:10:28.099004Z",
     "start_time": "2025-05-19T18:10:28.095135Z"
    }
   },
   "cell_type": "code",
   "source": [
    "def extract_features(filepath):\n",
    "    try:\n",
    "        pe = pefile.PE(filepath)\n",
    "        features = [\n",
    "            pe.OPTIONAL_HEADER.SizeOfCode,\n",
    "            pe.OPTIONAL_HEADER.SizeOfInitializedData,\n",
    "            pe.OPTIONAL_HEADER.SizeOfUninitializedData,\n",
    "            pe.OPTIONAL_HEADER.AddressOfEntryPoint,\n",
    "            pe.FILE_HEADER.NumberOfSections,\n",
    "            pe.FILE_HEADER.TimeDateStamp,\n",
    "        ]\n",
    "        return features\n",
    "    except Exception as e:\n",
    "        print(f\"[!] Errore in {filepath}: {e}\")\n",
    "        return None\n",
    "\n",
    "def load_dataset_from_folder(folder_path, label):\n",
    "    data = []\n",
    "    labels = []\n",
    "    files = glob.glob(os.path.join(folder_path, '*'))\n",
    "    for file_path in files:\n",
    "        feats = extract_features(file_path)\n",
    "        if feats:\n",
    "            data.append(feats)\n",
    "            labels.append(label)\n",
    "    return data, labels"
   ],
   "id": "7db1c3a1c6930d0b",
   "outputs": [],
   "execution_count": 2
  },
  {
   "metadata": {
    "ExecuteTime": {
     "end_time": "2025-05-19T18:10:28.177864Z",
     "start_time": "2025-05-19T18:10:28.175367Z"
    }
   },
   "cell_type": "code",
   "source": [
    "def executeSVM(goodware_path, malware_path):\n",
    "    # Caricamento dei dati\n",
    "    X_good, y_good = load_dataset_from_folder(goodware_path, 0)\n",
    "    X_mal, y_mal = load_dataset_from_folder(malware_path, 1)\n",
    "\n",
    "    # Unione\n",
    "    X = np.array(X_good + X_mal)\n",
    "    y = np.array(y_good + y_mal)\n",
    "\n",
    "    # Suddivisione train/test\n",
    "    X_train, X_test, y_train, y_test = train_test_split(X, y, test_size=0.2, random_state=42)\n",
    "\n",
    "    # Modello SVC\n",
    "    model = SVC(kernel='rbf')  # puoi provare anche 'linear'\n",
    "    model.fit(X_train, y_train)\n",
    "\n",
    "    # Valutazione\n",
    "    y_pred = model.predict(X_test)\n",
    "    print(\"Accuracy:\", accuracy_score(y_test, y_pred))\n",
    "    print(classification_report(y_test, y_pred, target_names=['Goodware', 'Malware']))"
   ],
   "id": "a3d9e3eabeab64a",
   "outputs": [],
   "execution_count": 3
  },
  {
   "metadata": {
    "ExecuteTime": {
     "end_time": "2025-05-19T18:15:31.452477Z",
     "start_time": "2025-05-19T18:10:28.182587Z"
    }
   },
   "cell_type": "code",
   "source": [
    "goodware_path = \"/Users/vitoditrani/Desktop/UNIVERSITA/MAGISTRALE/urban_security/urbanSecurityGDGV/resources/goodware_dataset\"\n",
    "malware_path = \"/Users/vitoditrani/Desktop/UNIVERSITA/MAGISTRALE/urban_security/urbanSecurityGDGV/resources/malware_dataset\"\n",
    "executeSVM(goodware_path, malware_path)"
   ],
   "id": "30015c4c81b068eb",
   "outputs": [
    {
     "name": "stdout",
     "output_type": "stream",
     "text": [
      "[!] Errore in /Users/vitoditrani/Desktop/UNIVERSITA/MAGISTRALE/urban_security/urbanSecurityGDGV/resources/goodware_dataset/Sourceforge_342.exe: 'DOS Header magic not found.'\n",
      "[!] Errore in /Users/vitoditrani/Desktop/UNIVERSITA/MAGISTRALE/urban_security/urbanSecurityGDGV/resources/goodware_dataset/WmsDashboard.exe: 'DOS Header magic not found.'\n",
      "[!] Errore in /Users/vitoditrani/Desktop/UNIVERSITA/MAGISTRALE/urban_security/urbanSecurityGDGV/resources/goodware_dataset/Sourceforge_5612.exe: 'DOS Header magic not found.'\n",
      "[!] Errore in /Users/vitoditrani/Desktop/UNIVERSITA/MAGISTRALE/urban_security/urbanSecurityGDGV/resources/goodware_dataset/Sourceforge_4685.exe: 'DOS Header magic not found.'\n",
      "[!] Errore in /Users/vitoditrani/Desktop/UNIVERSITA/MAGISTRALE/urban_security/urbanSecurityGDGV/resources/goodware_dataset/Sourceforge_1501.exe: 'DOS Header magic not found.'\n",
      "[!] Errore in /Users/vitoditrani/Desktop/UNIVERSITA/MAGISTRALE/urban_security/urbanSecurityGDGV/resources/goodware_dataset/Sourceforge_7602.exe: 'DOS Header magic not found.'\n",
      "[!] Errore in /Users/vitoditrani/Desktop/UNIVERSITA/MAGISTRALE/urban_security/urbanSecurityGDGV/resources/goodware_dataset/Sourceforge_7606.exe: 'DOS Header magic not found.'\n",
      "[!] Errore in /Users/vitoditrani/Desktop/UNIVERSITA/MAGISTRALE/urban_security/urbanSecurityGDGV/resources/goodware_dataset/Opengl95.exe: 'Invalid e_lfanew value, probably not a PE file'\n",
      "[!] Errore in /Users/vitoditrani/Desktop/UNIVERSITA/MAGISTRALE/urban_security/urbanSecurityGDGV/resources/goodware_dataset/Sourceforge_1458.exe: 'DOS Header magic not found.'\n",
      "[!] Errore in /Users/vitoditrani/Desktop/UNIVERSITA/MAGISTRALE/urban_security/urbanSecurityGDGV/resources/goodware_dataset/Sourceforge_1499.exe: 'DOS Header magic not found.'\n",
      "[!] Errore in /Users/vitoditrani/Desktop/UNIVERSITA/MAGISTRALE/urban_security/urbanSecurityGDGV/resources/goodware_dataset/Sourceforge_970.exe: 'DOS Header magic not found.'\n",
      "[!] Errore in /Users/vitoditrani/Desktop/UNIVERSITA/MAGISTRALE/urban_security/urbanSecurityGDGV/resources/goodware_dataset/Sourceforge_2543.exe: 'DOS Header magic not found.'\n",
      "[!] Errore in /Users/vitoditrani/Desktop/UNIVERSITA/MAGISTRALE/urban_security/urbanSecurityGDGV/resources/goodware_dataset/Sourceforge_7605.exe: 'DOS Header magic not found.'\n",
      "[!] Errore in /Users/vitoditrani/Desktop/UNIVERSITA/MAGISTRALE/urban_security/urbanSecurityGDGV/resources/goodware_dataset/Sourceforge_7823.exe: 'DOS Header magic not found.'\n",
      "[!] Errore in /Users/vitoditrani/Desktop/UNIVERSITA/MAGISTRALE/urban_security/urbanSecurityGDGV/resources/goodware_dataset/Sourceforge_7604.exe: 'DOS Header magic not found.'\n",
      "[!] Errore in /Users/vitoditrani/Desktop/UNIVERSITA/MAGISTRALE/urban_security/urbanSecurityGDGV/resources/goodware_dataset/Sourceforge_4682.exe: 'DOS Header magic not found.'\n",
      "[!] Errore in /Users/vitoditrani/Desktop/UNIVERSITA/MAGISTRALE/urban_security/urbanSecurityGDGV/resources/goodware_dataset/Sourceforge_2542.exe: 'DOS Header magic not found.'\n",
      "[!] Errore in /Users/vitoditrani/Desktop/UNIVERSITA/MAGISTRALE/urban_security/urbanSecurityGDGV/resources/goodware_dataset/Sourceforge_568.exe: 'DOS Header magic not found.'\n",
      "[!] Errore in /Users/vitoditrani/Desktop/UNIVERSITA/MAGISTRALE/urban_security/urbanSecurityGDGV/resources/goodware_dataset/Sourceforge_5114.exe: 'DOS Header magic not found.'\n",
      "[!] Errore in /Users/vitoditrani/Desktop/UNIVERSITA/MAGISTRALE/urban_security/urbanSecurityGDGV/resources/goodware_dataset/Sourceforge_3773.exe: 'DOS Header magic not found.'\n",
      "[!] Errore in /Users/vitoditrani/Desktop/UNIVERSITA/MAGISTRALE/urban_security/urbanSecurityGDGV/resources/goodware_dataset/ClipUp.exe: 'DOS Header magic not found.'\n",
      "[!] Errore in /Users/vitoditrani/Desktop/UNIVERSITA/MAGISTRALE/urban_security/urbanSecurityGDGV/resources/goodware_dataset/savepart.exe: 'Invalid e_lfanew value, probably not a PE file'\n",
      "[!] Errore in /Users/vitoditrani/Desktop/UNIVERSITA/MAGISTRALE/urban_security/urbanSecurityGDGV/resources/goodware_dataset/Sourceforge_5116.exe: 'DOS Header magic not found.'\n",
      "[!] Errore in /Users/vitoditrani/Desktop/UNIVERSITA/MAGISTRALE/urban_security/urbanSecurityGDGV/resources/goodware_dataset/Sourceforge_3775.exe: 'DOS Header magic not found.'\n",
      "[!] Errore in /Users/vitoditrani/Desktop/UNIVERSITA/MAGISTRALE/urban_security/urbanSecurityGDGV/resources/goodware_dataset/Sourceforge_6962.exe: 'DOS Header magic not found.'\n",
      "[!] Errore in /Users/vitoditrani/Desktop/UNIVERSITA/MAGISTRALE/urban_security/urbanSecurityGDGV/resources/goodware_dataset/Sourceforge_5111.exe: 'DOS Header magic not found.'\n",
      "[!] Errore in /Users/vitoditrani/Desktop/UNIVERSITA/MAGISTRALE/urban_security/urbanSecurityGDGV/resources/goodware_dataset/Sourceforge_4804.exe: 'DOS Header magic not found.'\n",
      "[!] Errore in /Users/vitoditrani/Desktop/UNIVERSITA/MAGISTRALE/urban_security/urbanSecurityGDGV/resources/goodware_dataset/vmwp.exe: 'DOS Header magic not found.'\n",
      "[!] Errore in /Users/vitoditrani/Desktop/UNIVERSITA/MAGISTRALE/urban_security/urbanSecurityGDGV/resources/goodware_dataset/Sourceforge_3777.exe: 'DOS Header magic not found.'\n",
      "[!] Errore in /Users/vitoditrani/Desktop/UNIVERSITA/MAGISTRALE/urban_security/urbanSecurityGDGV/resources/goodware_dataset/Sourceforge_5110.exe: 'DOS Header magic not found.'\n",
      "[!] Errore in /Users/vitoditrani/Desktop/UNIVERSITA/MAGISTRALE/urban_security/urbanSecurityGDGV/resources/goodware_dataset/Sourceforge_5121.exe: 'DOS Header magic not found.'\n",
      "[!] Errore in /Users/vitoditrani/Desktop/UNIVERSITA/MAGISTRALE/urban_security/urbanSecurityGDGV/resources/goodware_dataset/Sourceforge_6164.exe: 'DOS Header magic not found.'\n",
      "[!] Errore in /Users/vitoditrani/Desktop/UNIVERSITA/MAGISTRALE/urban_security/urbanSecurityGDGV/resources/goodware_dataset/ntoskrnl.exe: 'DOS Header magic not found.'\n",
      "[!] Errore in /Users/vitoditrani/Desktop/UNIVERSITA/MAGISTRALE/urban_security/urbanSecurityGDGV/resources/goodware_dataset/Sourceforge_5120.exe: 'DOS Header magic not found.'\n",
      "[!] Errore in /Users/vitoditrani/Desktop/UNIVERSITA/MAGISTRALE/urban_security/urbanSecurityGDGV/resources/goodware_dataset/Sourceforge_5122.exe: 'DOS Header magic not found.'\n",
      "[!] Errore in /Users/vitoditrani/Desktop/UNIVERSITA/MAGISTRALE/urban_security/urbanSecurityGDGV/resources/goodware_dataset/Sourceforge_6946.exe: 'DOS Header magic not found.'\n",
      "[!] Errore in /Users/vitoditrani/Desktop/UNIVERSITA/MAGISTRALE/urban_security/urbanSecurityGDGV/resources/goodware_dataset/Sourceforge_5123.exe: 'DOS Header magic not found.'\n",
      "[!] Errore in /Users/vitoditrani/Desktop/UNIVERSITA/MAGISTRALE/urban_security/urbanSecurityGDGV/resources/goodware_dataset/Sourceforge_3740.exe: 'DOS Header magic not found.'\n",
      "[!] Errore in /Users/vitoditrani/Desktop/UNIVERSITA/MAGISTRALE/urban_security/urbanSecurityGDGV/resources/goodware_dataset/Sourceforge_6163.exe: 'DOS Header magic not found.'\n",
      "[!] Errore in /Users/vitoditrani/Desktop/UNIVERSITA/MAGISTRALE/urban_security/urbanSecurityGDGV/resources/goodware_dataset/sppsvc.exe: 'DOS Header magic not found.'\n",
      "[!] Errore in /Users/vitoditrani/Desktop/UNIVERSITA/MAGISTRALE/urban_security/urbanSecurityGDGV/resources/goodware_dataset/Sourceforge_5118.exe: 'DOS Header magic not found.'\n",
      "[!] Errore in /Users/vitoditrani/Desktop/UNIVERSITA/MAGISTRALE/urban_security/urbanSecurityGDGV/resources/goodware_dataset/Sourceforge_5681.exe: 'DOS Header magic not found.'\n",
      "[!] Errore in /Users/vitoditrani/Desktop/UNIVERSITA/MAGISTRALE/urban_security/urbanSecurityGDGV/resources/goodware_dataset/Sourceforge_5483.exe: 'DOS Header magic not found.'\n",
      "[!] Errore in /Users/vitoditrani/Desktop/UNIVERSITA/MAGISTRALE/urban_security/urbanSecurityGDGV/resources/goodware_dataset/Sourceforge_5680.exe: 'DOS Header magic not found.'\n",
      "[!] Errore in /Users/vitoditrani/Desktop/UNIVERSITA/MAGISTRALE/urban_security/urbanSecurityGDGV/resources/goodware_dataset/Sourceforge_4670.exe: 'DOS Header magic not found.'\n",
      "[!] Errore in /Users/vitoditrani/Desktop/UNIVERSITA/MAGISTRALE/urban_security/urbanSecurityGDGV/resources/goodware_dataset/Sourceforge_1682.exe: 'DOS Header magic not found.'\n",
      "[!] Errore in /Users/vitoditrani/Desktop/UNIVERSITA/MAGISTRALE/urban_security/urbanSecurityGDGV/resources/goodware_dataset/Sourceforge_6648.exe: 'DOS Header magic not found.'\n",
      "[!] Errore in /Users/vitoditrani/Desktop/UNIVERSITA/MAGISTRALE/urban_security/urbanSecurityGDGV/resources/goodware_dataset/Sourceforge_3068.exe: 'DOS Header magic not found.'\n",
      "[!] Errore in /Users/vitoditrani/Desktop/UNIVERSITA/MAGISTRALE/urban_security/urbanSecurityGDGV/resources/goodware_dataset/PrintDialog.exe: 'DOS Header magic not found.'\n",
      "[!] Errore in /Users/vitoditrani/Desktop/UNIVERSITA/MAGISTRALE/urban_security/urbanSecurityGDGV/resources/goodware_dataset/Sourceforge_5626.exe: 'DOS Header magic not found.'\n",
      "[!] Errore in /Users/vitoditrani/Desktop/UNIVERSITA/MAGISTRALE/urban_security/urbanSecurityGDGV/resources/goodware_dataset/Sourceforge_7544.exe: 'DOS Header magic not found.'\n",
      "[!] Errore in /Users/vitoditrani/Desktop/UNIVERSITA/MAGISTRALE/urban_security/urbanSecurityGDGV/resources/goodware_dataset/Sourceforge_5967.exe: 'DOS Header magic not found.'\n",
      "Accuracy: 0.7772511848341233\n",
      "              precision    recall  f1-score   support\n",
      "\n",
      "    Goodware       0.99      0.54      0.70       807\n",
      "     Malware       0.70      0.99      0.82       881\n",
      "\n",
      "    accuracy                           0.78      1688\n",
      "   macro avg       0.85      0.77      0.76      1688\n",
      "weighted avg       0.84      0.78      0.76      1688\n",
      "\n"
     ]
    }
   ],
   "execution_count": 4
  }
 ],
 "metadata": {
  "kernelspec": {
   "display_name": "Python 3",
   "language": "python",
   "name": "python3"
  },
  "language_info": {
   "codemirror_mode": {
    "name": "ipython",
    "version": 2
   },
   "file_extension": ".py",
   "mimetype": "text/x-python",
   "name": "python",
   "nbconvert_exporter": "python",
   "pygments_lexer": "ipython2",
   "version": "2.7.6"
  }
 },
 "nbformat": 4,
 "nbformat_minor": 5
}
