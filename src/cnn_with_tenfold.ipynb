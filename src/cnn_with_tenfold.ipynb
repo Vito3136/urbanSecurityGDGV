{
 "cells": [
  {
   "metadata": {
    "ExecuteTime": {
     "end_time": "2025-05-19T19:38:46.322586Z",
     "start_time": "2025-05-19T19:38:44.572151Z"
    }
   },
   "cell_type": "code",
   "source": [
    "import glob\n",
    "import numpy as np\n",
    "import torch\n",
    "import torch.nn as nn\n",
    "import torchvision.transforms as transforms\n",
    "from PIL import Image\n",
    "from sklearn.metrics import accuracy_score, f1_score\n",
    "from sklearn.model_selection import StratifiedKFold\n",
    "from torch.utils.data import Dataset, DataLoader, Subset\n",
    "from torchvision.models import resnet18, ResNet18_Weights\n",
    "from tqdm import tqdm"
   ],
   "id": "1b6cf07d8e93fecc",
   "outputs": [],
   "execution_count": 1
  },
  {
   "metadata": {
    "ExecuteTime": {
     "end_time": "2025-05-19T19:38:46.361560Z",
     "start_time": "2025-05-19T19:38:46.325162Z"
    }
   },
   "cell_type": "code",
   "source": [
    "goodware_files = glob.glob(\"/Users/giuseppe/PycharmProjects/urbanSecurityGDGV/resources/goodware_dataset/*.exe\")\n",
    "malware_files = glob.glob(\"/Users/giuseppe/PycharmProjects/urbanSecurityGDGV/resources/malware_dataset/*\")\n",
    "\n",
    "file_paths = malware_files + goodware_files\n",
    "labels = [1] * len(malware_files) + [0] * len(goodware_files)"
   ],
   "id": "f9ed0c367afd51b1",
   "outputs": [],
   "execution_count": 2
  },
  {
   "metadata": {
    "ExecuteTime": {
     "end_time": "2025-05-19T19:38:46.418962Z",
     "start_time": "2025-05-19T19:38:46.416665Z"
    }
   },
   "cell_type": "code",
   "source": [
    "def exe_to_image(file_path, width=256):\n",
    "    with open(file_path, \"rb\") as f:\n",
    "        byte_array = np.frombuffer(f.read(), dtype=np.uint8)\n",
    "\n",
    "    length = len(byte_array)\n",
    "    height = int(np.ceil(length / width))\n",
    "\n",
    "    padded = np.pad(byte_array, (0, height * width - length), 'constant', constant_values=0)\n",
    "    image = padded.reshape((height, width))\n",
    "\n",
    "    return Image.fromarray(image)"
   ],
   "id": "adb3a45ab589d209",
   "outputs": [],
   "execution_count": 3
  },
  {
   "metadata": {
    "ExecuteTime": {
     "end_time": "2025-05-19T19:38:46.425025Z",
     "start_time": "2025-05-19T19:38:46.423053Z"
    }
   },
   "cell_type": "code",
   "source": [
    "class EXEDataset(Dataset):\n",
    "    def __init__(self, file_paths, labels, transform=None):\n",
    "        self.file_paths = file_paths\n",
    "        self.labels = labels\n",
    "        self.transform = transform\n",
    "\n",
    "    def __len__(self):\n",
    "        return len(self.file_paths)\n",
    "\n",
    "    def __getitem__(self, idx):\n",
    "        img = exe_to_image(self.file_paths[idx])\n",
    "        if self.transform:\n",
    "            img = self.transform(img)\n",
    "        label = self.labels[idx]\n",
    "        return img, label\n"
   ],
   "id": "292fbc1a855532ff",
   "outputs": [],
   "execution_count": 4
  },
  {
   "metadata": {
    "ExecuteTime": {
     "end_time": "2025-05-19T19:38:46.447613Z",
     "start_time": "2025-05-19T19:38:46.428472Z"
    }
   },
   "cell_type": "code",
   "source": [
    "transform = transforms.Compose([\n",
    "    transforms.Resize((224, 224)),\n",
    "    transforms.Grayscale(num_output_channels=3),  # ResNet richiede 3 canali\n",
    "    transforms.ToTensor()\n",
    "])\n",
    "\n",
    "device = torch.device(\"mps\" if torch.backends.mps.is_available() else \"cpu\")"
   ],
   "id": "2a84cd36ed35f831",
   "outputs": [],
   "execution_count": 5
  },
  {
   "metadata": {
    "ExecuteTime": {
     "end_time": "2025-05-19T19:38:46.452839Z",
     "start_time": "2025-05-19T19:38:46.451335Z"
    }
   },
   "cell_type": "code",
   "source": [
    "def create_model():\n",
    "    model = resnet18(weights=ResNet18_Weights.DEFAULT)\n",
    "    model.fc = nn.Linear(model.fc.in_features, 2)  # Binary classification\n",
    "    return model.to(device)"
   ],
   "id": "61aeb24c483e2d5b",
   "outputs": [],
   "execution_count": 6
  },
  {
   "metadata": {
    "ExecuteTime": {
     "end_time": "2025-05-19T19:38:46.458996Z",
     "start_time": "2025-05-19T19:38:46.456894Z"
    }
   },
   "cell_type": "code",
   "source": [
    "def evaluate(model, dataloader):\n",
    "    model.eval()\n",
    "    all_preds = []\n",
    "    all_labels = []\n",
    "\n",
    "    with torch.no_grad():\n",
    "        for x, y in dataloader:\n",
    "            x, y = x.to(device), y.to(device)\n",
    "            outputs = model(x)\n",
    "            preds = outputs.argmax(dim=1)\n",
    "            all_preds.extend(preds.cpu().numpy())\n",
    "            all_labels.extend(y.cpu().numpy())\n",
    "\n",
    "    acc = accuracy_score(all_labels, all_preds)\n",
    "    f1 = f1_score(all_labels, all_preds, average='macro')\n",
    "    return acc, f1"
   ],
   "id": "7b6f744d63b0c7c0",
   "outputs": [],
   "execution_count": 7
  },
  {
   "metadata": {
    "ExecuteTime": {
     "end_time": "2025-05-19T20:50:48.522778Z",
     "start_time": "2025-05-19T19:38:46.463008Z"
    }
   },
   "cell_type": "code",
   "source": [
    "dataset = EXEDataset(file_paths, labels, transform)\n",
    "skf = StratifiedKFold(n_splits=10, shuffle=True, random_state=42)\n",
    "\n",
    "accuracies = []\n",
    "f1_scores = []\n",
    "\n",
    "for fold, (train_idx, val_idx) in enumerate(skf.split(file_paths, labels)):\n",
    "    print(f\"--- Fold {fold+1} ---\")\n",
    "\n",
    "    train_subset = Subset(dataset, train_idx)\n",
    "    val_subset = Subset(dataset, val_idx)\n",
    "\n",
    "    train_loader = DataLoader(train_subset, batch_size=32, shuffle=True)\n",
    "    val_loader = DataLoader(val_subset, batch_size=32)\n",
    "\n",
    "    model = create_model()\n",
    "    criterion = nn.CrossEntropyLoss()\n",
    "    optimizer = torch.optim.Adam(model.parameters(), lr=1e-4)\n",
    "    scheduler = torch.optim.lr_scheduler.StepLR(optimizer, step_size=5, gamma=0.5)\n",
    "\n",
    "    # Training loop\n",
    "    model.train()\n",
    "    for epoch in range(10):  # puoi aumentare il numero di epoche\n",
    "        for x, y in tqdm(train_loader, desc=f\"Epoch {epoch+1}\"):\n",
    "            x, y = x.to(device), y.to(device)\n",
    "            optimizer.zero_grad()\n",
    "            outputs = model(x)\n",
    "            loss = criterion(outputs, y)\n",
    "            loss.backward()\n",
    "            optimizer.step()\n",
    "            scheduler.step()\n",
    "\n",
    "    acc, f1 = evaluate(model, val_loader)\n",
    "    print(f\"Accuracy: {acc:.4f} | F1-score: {f1:.4f}\")\n",
    "    accuracies.append(acc)\n",
    "    f1_scores.append(f1)"
   ],
   "id": "97dcf0f0647d78a0",
   "outputs": [
    {
     "name": "stdout",
     "output_type": "stream",
     "text": [
      "--- Fold 1 ---\n"
     ]
    },
    {
     "name": "stderr",
     "output_type": "stream",
     "text": [
      "Epoch 1: 100%|██████████| 239/239 [01:06<00:00,  3.62it/s]\n",
      "Epoch 2: 100%|██████████| 239/239 [01:02<00:00,  3.83it/s]\n",
      "Epoch 3: 100%|██████████| 239/239 [01:03<00:00,  3.78it/s]\n",
      "Epoch 4: 100%|██████████| 239/239 [01:09<00:00,  3.45it/s]\n",
      "Epoch 5: 100%|██████████| 239/239 [01:21<00:00,  2.93it/s]\n"
     ]
    },
    {
     "name": "stdout",
     "output_type": "stream",
     "text": [
      "Accuracy: 0.8939 | F1-score: 0.8929\n",
      "--- Fold 2 ---\n"
     ]
    },
    {
     "name": "stderr",
     "output_type": "stream",
     "text": [
      "Epoch 1: 100%|██████████| 239/239 [01:11<00:00,  3.34it/s]\n",
      "Epoch 2: 100%|██████████| 239/239 [01:18<00:00,  3.04it/s]\n",
      "Epoch 3: 100%|██████████| 239/239 [01:20<00:00,  2.98it/s]\n",
      "Epoch 4: 100%|██████████| 239/239 [01:19<00:00,  3.02it/s]\n",
      "Epoch 5: 100%|██████████| 239/239 [01:21<00:00,  2.92it/s]\n"
     ]
    },
    {
     "name": "stdout",
     "output_type": "stream",
     "text": [
      "Accuracy: 0.9127 | F1-score: 0.9127\n",
      "--- Fold 3 ---\n"
     ]
    },
    {
     "name": "stderr",
     "output_type": "stream",
     "text": [
      "Epoch 1: 100%|██████████| 239/239 [01:25<00:00,  2.81it/s]\n",
      "Epoch 2: 100%|██████████| 239/239 [01:23<00:00,  2.86it/s]\n",
      "Epoch 3: 100%|██████████| 239/239 [01:26<00:00,  2.77it/s]\n",
      "Epoch 4: 100%|██████████| 239/239 [01:20<00:00,  2.99it/s]\n",
      "Epoch 5: 100%|██████████| 239/239 [01:50<00:00,  2.17it/s]\n"
     ]
    },
    {
     "name": "stdout",
     "output_type": "stream",
     "text": [
      "Accuracy: 0.8278 | F1-score: 0.8237\n",
      "--- Fold 4 ---\n"
     ]
    },
    {
     "name": "stderr",
     "output_type": "stream",
     "text": [
      "Epoch 1: 100%|██████████| 239/239 [01:44<00:00,  2.29it/s]\n",
      "Epoch 2: 100%|██████████| 239/239 [01:44<00:00,  2.29it/s]\n",
      "Epoch 3: 100%|██████████| 239/239 [01:40<00:00,  2.37it/s]\n",
      "Epoch 4: 100%|██████████| 239/239 [01:46<00:00,  2.24it/s]\n",
      "Epoch 5: 100%|██████████| 239/239 [01:45<00:00,  2.27it/s]\n"
     ]
    },
    {
     "name": "stdout",
     "output_type": "stream",
     "text": [
      "Accuracy: 0.9045 | F1-score: 0.9045\n",
      "--- Fold 5 ---\n"
     ]
    },
    {
     "name": "stderr",
     "output_type": "stream",
     "text": [
      "Epoch 1: 100%|██████████| 239/239 [01:44<00:00,  2.29it/s]\n",
      "Epoch 2: 100%|██████████| 239/239 [01:44<00:00,  2.28it/s]\n",
      "Epoch 3: 100%|██████████| 239/239 [01:45<00:00,  2.27it/s]\n",
      "Epoch 4: 100%|██████████| 239/239 [01:47<00:00,  2.22it/s]\n",
      "Epoch 5: 100%|██████████| 239/239 [01:46<00:00,  2.25it/s]\n"
     ]
    },
    {
     "name": "stdout",
     "output_type": "stream",
     "text": [
      "Accuracy: 0.8986 | F1-score: 0.8981\n",
      "--- Fold 6 ---\n"
     ]
    },
    {
     "name": "stderr",
     "output_type": "stream",
     "text": [
      "Epoch 1: 100%|██████████| 239/239 [01:46<00:00,  2.24it/s]\n",
      "Epoch 2: 100%|██████████| 239/239 [01:46<00:00,  2.24it/s]\n",
      "Epoch 3: 100%|██████████| 239/239 [01:30<00:00,  2.64it/s]\n",
      "Epoch 4: 100%|██████████| 239/239 [01:28<00:00,  2.70it/s]\n",
      "Epoch 5: 100%|██████████| 239/239 [01:21<00:00,  2.92it/s]\n"
     ]
    },
    {
     "name": "stdout",
     "output_type": "stream",
     "text": [
      "Accuracy: 0.8939 | F1-score: 0.8936\n",
      "--- Fold 7 ---\n"
     ]
    },
    {
     "name": "stderr",
     "output_type": "stream",
     "text": [
      "Epoch 1: 100%|██████████| 239/239 [01:21<00:00,  2.94it/s]\n",
      "Epoch 2: 100%|██████████| 239/239 [01:22<00:00,  2.90it/s]\n",
      "Epoch 3: 100%|██████████| 239/239 [01:16<00:00,  3.12it/s]\n",
      "Epoch 4: 100%|██████████| 239/239 [01:14<00:00,  3.23it/s]\n",
      "Epoch 5: 100%|██████████| 239/239 [01:13<00:00,  3.24it/s]\n"
     ]
    },
    {
     "name": "stdout",
     "output_type": "stream",
     "text": [
      "Accuracy: 0.8689 | F1-score: 0.8685\n",
      "--- Fold 8 ---\n"
     ]
    },
    {
     "name": "stderr",
     "output_type": "stream",
     "text": [
      "Epoch 1: 100%|██████████| 239/239 [01:13<00:00,  3.26it/s]\n",
      "Epoch 2: 100%|██████████| 239/239 [01:12<00:00,  3.30it/s]\n",
      "Epoch 3: 100%|██████████| 239/239 [01:12<00:00,  3.28it/s]\n",
      "Epoch 4: 100%|██████████| 239/239 [01:12<00:00,  3.28it/s]\n",
      "Epoch 5: 100%|██████████| 239/239 [01:12<00:00,  3.29it/s]\n"
     ]
    },
    {
     "name": "stdout",
     "output_type": "stream",
     "text": [
      "Accuracy: 0.8937 | F1-score: 0.8937\n",
      "--- Fold 9 ---\n"
     ]
    },
    {
     "name": "stderr",
     "output_type": "stream",
     "text": [
      "Epoch 1: 100%|██████████| 239/239 [01:13<00:00,  3.25it/s]\n",
      "Epoch 2: 100%|██████████| 239/239 [01:13<00:00,  3.24it/s]\n",
      "Epoch 3: 100%|██████████| 239/239 [01:12<00:00,  3.28it/s]\n",
      "Epoch 4: 100%|██████████| 239/239 [01:12<00:00,  3.28it/s]\n",
      "Epoch 5: 100%|██████████| 239/239 [01:12<00:00,  3.29it/s]\n"
     ]
    },
    {
     "name": "stdout",
     "output_type": "stream",
     "text": [
      "Accuracy: 0.9067 | F1-score: 0.9061\n",
      "--- Fold 10 ---\n"
     ]
    },
    {
     "name": "stderr",
     "output_type": "stream",
     "text": [
      "Epoch 1: 100%|██████████| 239/239 [01:16<00:00,  3.11it/s]\n",
      "Epoch 2: 100%|██████████| 239/239 [01:29<00:00,  2.66it/s]\n",
      "Epoch 3: 100%|██████████| 239/239 [01:34<00:00,  2.53it/s]\n",
      "Epoch 4: 100%|██████████| 239/239 [01:36<00:00,  2.48it/s]\n",
      "Epoch 5: 100%|██████████| 239/239 [01:35<00:00,  2.49it/s]\n"
     ]
    },
    {
     "name": "stdout",
     "output_type": "stream",
     "text": [
      "Accuracy: 0.9020 | F1-score: 0.9013\n"
     ]
    }
   ],
   "execution_count": 8
  },
  {
   "metadata": {
    "ExecuteTime": {
     "end_time": "2025-05-19T20:50:51.403907Z",
     "start_time": "2025-05-19T20:50:51.400857Z"
    }
   },
   "cell_type": "code",
   "source": [
    "print(\"\\n--- Risultati finali (10-fold CV) ---\")\n",
    "print(f\"Accuracy media: {np.mean(accuracies):.4f} ± {np.std(accuracies):.4f}\")\n",
    "print(f\"F1-score medio: {np.mean(f1_scores):.4f} ± {np.std(f1_scores):.4f}\")"
   ],
   "id": "f11080008a7ab9ba",
   "outputs": [
    {
     "name": "stdout",
     "output_type": "stream",
     "text": [
      "\n",
      "--- Risultati finali (10-fold CV) ---\n",
      "Accuracy media: 0.8903 ± 0.0236\n",
      "F1-score medio: 0.8895 ± 0.0246\n"
     ]
    }
   ],
   "execution_count": 9
  }
 ],
 "metadata": {
  "kernelspec": {
   "name": "python3",
   "language": "python",
   "display_name": "Python 3 (ipykernel)"
  }
 },
 "nbformat": 5,
 "nbformat_minor": 9
}
